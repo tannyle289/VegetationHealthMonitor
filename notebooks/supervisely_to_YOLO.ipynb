{
 "cells": [
  {
   "cell_type": "markdown",
   "source": [
    "TEST"
   ],
   "metadata": {
    "collapsed": false
   },
   "id": "39cae37ae4ece74d"
  },
  {
   "cell_type": "code",
   "source": [
    "import supervisely as sly\n",
    "\n",
    "import os"
   ],
   "metadata": {
    "collapsed": false,
    "ExecuteTime": {
     "end_time": "2025-10-25T20:37:11.369695Z",
     "start_time": "2025-10-25T20:37:11.365263Z"
    }
   },
   "id": "3897d6e4df473ca6",
   "outputs": [],
   "execution_count": 2
  },
  {
   "metadata": {
    "ExecuteTime": {
     "end_time": "2025-10-24T16:25:17.999878Z",
     "start_time": "2025-10-24T16:25:17.993841Z"
    }
   },
   "cell_type": "code",
   "source": "print(os.getcwd())",
   "id": "ea66cce7da4a3151",
   "outputs": [
    {
     "name": "stdout",
     "output_type": "stream",
     "text": [
      "/workspace/notebooks\n"
     ]
    }
   ],
   "execution_count": 5
  },
  {
   "metadata": {
    "ExecuteTime": {
     "end_time": "2025-10-24T16:36:15.056963Z",
     "start_time": "2025-10-24T16:35:47.564526Z"
    }
   },
   "cell_type": "code",
   "source": [
    "project_path = '/workspace/datasets/urban-street_tree'\n",
    "export_dir ='/workspace/datasets/urban-street_tree_YOLO'\n",
    "project = sly.Project(project_path, sly.OpenMode.READ)\n",
    "\n",
    "sly.export.project.export_project(project, export_dir, sly.ExportFormat.YOLO)\n",
    "# Export the project as YOLO format\n",
    "project.export(export_dir, sly.ExportFormat.YOLO)"
   ],
   "id": "ad5949a9d6aaa50f",
   "outputs": [
    {
     "ename": "AttributeError",
     "evalue": "'Project' object has no attribute 'export'",
     "output_type": "error",
     "traceback": [
      "\u001B[0;31m---------------------------------------------------------------------------\u001B[0m",
      "\u001B[0;31mAttributeError\u001B[0m                            Traceback (most recent call last)",
      "Cell \u001B[0;32mIn[7], line 6\u001B[0m\n\u001B[1;32m      3\u001B[0m project \u001B[38;5;241m=\u001B[39m sly\u001B[38;5;241m.\u001B[39mProject(project_path, sly\u001B[38;5;241m.\u001B[39mOpenMode\u001B[38;5;241m.\u001B[39mREAD)\n\u001B[1;32m      5\u001B[0m \u001B[38;5;66;03m# Export the project as YOLO format\u001B[39;00m\n\u001B[0;32m----> 6\u001B[0m \u001B[43mproject\u001B[49m\u001B[38;5;241;43m.\u001B[39;49m\u001B[43mexport\u001B[49m(export_dir, sly\u001B[38;5;241m.\u001B[39mExportFormat\u001B[38;5;241m.\u001B[39mYOLO)\n",
      "\u001B[0;31mAttributeError\u001B[0m: 'Project' object has no attribute 'export'"
     ]
    }
   ],
   "execution_count": 7
  },
  {
   "metadata": {
    "ExecuteTime": {
     "end_time": "2025-10-24T18:30:32.957154Z",
     "start_time": "2025-10-24T18:01:47.960733Z"
    }
   },
   "cell_type": "code",
   "source": [
    "# Path to your local Supervisely dataset\n",
    "project_path = '/workspace/datasets/urban-street_tree'\n",
    "export_dir ='/workspace/datasets/urban-street_tree_YOLO'\n",
    "\n",
    "# Load project\n",
    "project = sly.Project(project_path, sly.OpenMode.READ)\n",
    "project.to_yolo(dest_dir = export_dir, task_type=\"segment\")\n",
    "\n",
    "print(f\"Converted to YOLO and saved at: {export_dir}\")"
   ],
   "id": "5241891bc3b5d36c",
   "outputs": [
    {
     "name": "stderr",
     "output_type": "stream",
     "text": [
      "Converting Supervisely project to YOLO format:   0%|                                           | 0/3949 [00:00<?, ?it/s]{\"message\": \"Data config file has been saved to /workspace/datasets/urban-street_tree_YOLO/data_config.yaml\", \"timestamp\": \"2025-10-24T18:02:20.511Z\", \"level\": \"info\"}\n",
      "Converting Supervisely project to YOLO format:   0%|                                   | 9/3949 [00:06<30:51,  2.13it/s]{\"message\": \"Can not convert geometry bitmap to polygon because geometry to convert is very small\", \"timestamp\": \"2025-10-24T18:02:27.512Z\", \"level\": \"warn\"}\n",
      "Converting Supervisely project to YOLO format:  10%|███▏                             | 386/3949 [02:46<22:33,  2.63it/s]{\"message\": \"Dataset 'test' has been converted to YOLO format.\", \"timestamp\": \"2025-10-24T18:05:06.991Z\", \"level\": \"info\"}\n",
      "Converting Supervisely project to YOLO format:  49%|███████████████▋                | 1941/3949 [13:52<14:06,  2.37it/s]{\"message\": \"Can not convert geometry bitmap to polygon because geometry to convert is very small\", \"timestamp\": \"2025-10-24T18:16:13.426Z\", \"level\": \"warn\"}\n",
      "Converting Supervisely project to YOLO format:  90%|████████████████████████████▊   | 3554/3949 [25:25<02:51,  2.30it/s]{\"message\": \"Dataset 'train' has been converted to YOLO format.\", \"timestamp\": \"2025-10-24T18:27:46.016Z\", \"level\": \"info\"}\n",
      "Converting Supervisely project to YOLO format: 100%|████████████████████████████████| 3949/3949 [28:12<00:00,  2.33it/s]\n",
      "{\"message\": \"Dataset 'val' has been converted to YOLO format.\", \"timestamp\": \"2025-10-24T18:30:32.945Z\", \"level\": \"info\"}\n",
      "{\"message\": \"Project 'urban-street_tree' has been converted to YOLO format.\", \"timestamp\": \"2025-10-24T18:30:32.946Z\", \"level\": \"info\"}\n"
     ]
    },
    {
     "name": "stdout",
     "output_type": "stream",
     "text": [
      "Converted to YOLO and saved at: /workspace/datasets/urban-street_tree_YOLO\n"
     ]
    }
   ],
   "execution_count": 8
  },
  {
   "metadata": {
    "ExecuteTime": {
     "end_time": "2025-10-25T21:06:57.359916Z",
     "start_time": "2025-10-25T20:37:36.940476Z"
    }
   },
   "cell_type": "code",
   "source": [
    "project_path = '/workspace/datasets/urban-street_tree'\n",
    "export_dir ='/workspace/datasets/urban-street_tree_YOLO'\n",
    "project = sly.Project(project_path, sly.OpenMode.READ)\n",
    "\n",
    "for ds in project.datasets:\n",
    "    print(f\"Converting {ds.name}, saving as {ds.name.split('/')[-1]}\")\n",
    "    name = ds.name.split('/')[-1]\n",
    "    sly.convert.to_yolo(ds, dest_dir=os.path.join(export_dir, f\"{name}\"), meta=project.meta, task_type=\"segment\")"
   ],
   "id": "4113f345b87666f7",
   "outputs": [
    {
     "name": "stdout",
     "output_type": "stream",
     "text": [
      "Converting workspace/urban-street_tree/test, saving as test\n"
     ]
    },
    {
     "name": "stderr",
     "output_type": "stream",
     "text": [
      "Converting dataset 'test' to YOLO format:   2%|▉                                        | 9/386 [00:04<02:27,  2.56it/s]{\"message\": \"Can not convert geometry bitmap to polygon because geometry to convert is very small\", \"timestamp\": \"2025-10-25T20:38:09.316Z\", \"level\": \"warn\"}\n",
      "Converting dataset 'test' to YOLO format: 100%|███████████████████████████████████████| 386/386 [02:46<00:00,  2.32it/s]\n",
      "{\"message\": \"Data config file has been saved to /workspace/datasets/urban-street_tree_YOLO/test/data_config.yaml\", \"timestamp\": \"2025-10-25T20:40:50.698Z\", \"level\": \"info\"}\n"
     ]
    },
    {
     "name": "stdout",
     "output_type": "stream",
     "text": [
      "Converting workspace/urban-street_tree/train, saving as train\n"
     ]
    },
    {
     "name": "stderr",
     "output_type": "stream",
     "text": [
      "Converting dataset 'train' to YOLO format:  49%|█████████████████▋                  | 1555/3168 [11:24<12:34,  2.14it/s]{\"message\": \"Can not convert geometry bitmap to polygon because geometry to convert is very small\", \"timestamp\": \"2025-10-25T20:52:15.848Z\", \"level\": \"warn\"}\n",
      "Converting dataset 'train' to YOLO format: 100%|████████████████████████████████████| 3168/3168 [23:12<00:00,  2.28it/s]\n",
      "{\"message\": \"Data config file has been saved to /workspace/datasets/urban-street_tree_YOLO/train/data_config.yaml\", \"timestamp\": \"2025-10-25T21:04:02.743Z\", \"level\": \"info\"}\n"
     ]
    },
    {
     "name": "stdout",
     "output_type": "stream",
     "text": [
      "Converting workspace/urban-street_tree/val, saving as val\n"
     ]
    },
    {
     "name": "stderr",
     "output_type": "stream",
     "text": [
      "Converting dataset 'val' to YOLO format:  99%|███████████████████████████████████████▍| 390/395 [02:52<00:01,  2.54it/s]"
     ]
    }
   ],
   "execution_count": 3
  },
  {
   "metadata": {},
   "cell_type": "code",
   "outputs": [],
   "execution_count": null,
   "source": "",
   "id": "9b4e03f1ce2c7620"
  }
 ],
 "metadata": {
  "kernelspec": {
   "display_name": "Python 3",
   "language": "python",
   "name": "python3"
  },
  "language_info": {
   "codemirror_mode": {
    "name": "ipython",
    "version": 2
   },
   "file_extension": ".py",
   "mimetype": "text/x-python",
   "name": "python",
   "nbconvert_exporter": "python",
   "pygments_lexer": "ipython2",
   "version": "2.7.6"
  }
 },
 "nbformat": 4,
 "nbformat_minor": 5
}
